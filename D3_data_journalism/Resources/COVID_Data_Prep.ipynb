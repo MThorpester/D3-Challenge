{
 "cells": [
  {
   "cell_type": "markdown",
   "metadata": {},
   "source": [
    "# ETL - COVID State Vaccination Data\n",
    "This project extracts, transforms and loads COVID data from multiple sources into CSVs to analyze and visualize. \n",
    "## Data Sources\n",
    "- **Vaccination Data**: I downloaded several different files of vaccination data from \"Our World in Data\" - (https://ourworldindata.org/us-states-vaccinations ):\n",
    "    - us-covid-number-fully-vaccinated.csv\n",
    "    - us-covid-share-fully-vaccinated.csv\n",
    "    - us-total-covid-19-vaccine-doses-administered.csv\n",
    "    - us-state-covid-vaccines-per-100.csv\n",
    "<br><br>\n",
    "- **COVID Cases and Deaths**: I downloaded case counts and death metrics from CDC's COVID Data Tracker at https://data.cdc.gov/Case-Surveillance/United-States-COVID-19-Cases-and-Deaths-by-State-o/9mfq-cb36 \n",
    "    - United_States_COVID_19_Cases_and_Deaths_by_State_over_Time.csv\n",
    "<br>\n",
    "\n",
    "#### ETL - The process of extracting, transforming, loading and validating this data is detailed in the following steps:\n",
    "1. [Extract and Transform National and State level Vaccination Data](#Extract-and-Transform-National-and-State-level-Vaccination-Data)\n",
    "2. [Extract and Transform COVID Cases and Deaths Data](#Extract-and-Transform-COVID-Case-and-Death-Data)\n",
    "\n"
   ]
  },
  {
   "cell_type": "code",
   "execution_count": 1,
   "metadata": {},
   "outputs": [],
   "source": [
    "# Set up Dependencies\n",
    "import pandas as pd\n",
    "# Import psycopg2 - the DB API 2.0 compliant PostgreSQL driver for Python\n"
   ]
  },
  {
   "cell_type": "markdown",
   "metadata": {},
   "source": [
    "## Extract and Transform National and State level Vaccination Data "
   ]
  },
  {
   "cell_type": "code",
   "execution_count": 2,
   "metadata": {
    "scrolled": true
   },
   "outputs": [],
   "source": [
    "# - us-covid-number-fully-vaccinated.csv\n",
    "#    - us-covid-share-fully-vaccinated.csv\n",
    "#    - us-total-covid-19-vaccine-doses-administered.csv\n",
    "#    - us-state-covid-vaccines-per-100.csv\n",
    "# Loead the files of vaccination data into Pandas dataframes\n",
    "number_fully_vaccinated_to_load = \"Resources/us-covid-number-fully-vaccinated.csv\"\n",
    "share_fully_vaccinated_to_load = \"Resources/us-covid-share-fully-vaccinated.csv\"\n",
    "number_doses_administered_to_load = \"Resources/us-total-covid-19-vaccine-doses-administered.csv\"\n",
    "number_doses_per_hundred_to_load = \"Resources/us-state-covid-vaccines-per-100.csv\"\n",
    "\n",
    "# Read Vaccine data files and store into Pandas DataFrames\n",
    "nbr_fully_vaccinated_df = pd.read_csv(number_fully_vaccinated_to_load)\n",
    "shr_fully_vaccinated_df = pd.read_csv(share_fully_vaccinated_to_load)\n",
    "nbr_doses_administered_df = pd.read_csv(number_doses_administered_to_load)\n",
    "nbr_doses_per_hundred_df = pd.read_csv(number_doses_per_hundred_to_load)\n"
   ]
  },
  {
   "cell_type": "code",
   "execution_count": 4,
   "metadata": {
    "scrolled": true
   },
   "outputs": [
    {
     "data": {
      "text/html": [
       "<div>\n",
       "<style scoped>\n",
       "    .dataframe tbody tr th:only-of-type {\n",
       "        vertical-align: middle;\n",
       "    }\n",
       "\n",
       "    .dataframe tbody tr th {\n",
       "        vertical-align: top;\n",
       "    }\n",
       "\n",
       "    .dataframe thead th {\n",
       "        text-align: right;\n",
       "    }\n",
       "</style>\n",
       "<table border=\"1\" class=\"dataframe\">\n",
       "  <thead>\n",
       "    <tr style=\"text-align: right;\">\n",
       "      <th></th>\n",
       "      <th>Entity</th>\n",
       "      <th>Day</th>\n",
       "      <th>people_fully_vaccinated</th>\n",
       "    </tr>\n",
       "  </thead>\n",
       "  <tbody>\n",
       "    <tr>\n",
       "      <th>0</th>\n",
       "      <td>Alabama</td>\n",
       "      <td>2021-01-12</td>\n",
       "      <td>7270</td>\n",
       "    </tr>\n",
       "    <tr>\n",
       "      <th>1</th>\n",
       "      <td>Alabama</td>\n",
       "      <td>2021-01-13</td>\n",
       "      <td>9245</td>\n",
       "    </tr>\n",
       "    <tr>\n",
       "      <th>2</th>\n",
       "      <td>Alabama</td>\n",
       "      <td>2021-01-15</td>\n",
       "      <td>13488</td>\n",
       "    </tr>\n",
       "    <tr>\n",
       "      <th>3</th>\n",
       "      <td>Alabama</td>\n",
       "      <td>2021-01-19</td>\n",
       "      <td>16346</td>\n",
       "    </tr>\n",
       "    <tr>\n",
       "      <th>4</th>\n",
       "      <td>Alabama</td>\n",
       "      <td>2021-01-20</td>\n",
       "      <td>17956</td>\n",
       "    </tr>\n",
       "  </tbody>\n",
       "</table>\n",
       "</div>"
      ],
      "text/plain": [
       "    Entity         Day  people_fully_vaccinated\n",
       "0  Alabama  2021-01-12                     7270\n",
       "1  Alabama  2021-01-13                     9245\n",
       "2  Alabama  2021-01-15                    13488\n",
       "3  Alabama  2021-01-19                    16346\n",
       "4  Alabama  2021-01-20                    17956"
      ]
     },
     "execution_count": 4,
     "metadata": {},
     "output_type": "execute_result"
    }
   ],
   "source": [
    "nbr_fully_vaccinated_df.head()"
   ]
  },
  {
   "cell_type": "code",
   "execution_count": 5,
   "metadata": {
    "scrolled": true
   },
   "outputs": [
    {
     "data": {
      "text/html": [
       "<div>\n",
       "<style scoped>\n",
       "    .dataframe tbody tr th:only-of-type {\n",
       "        vertical-align: middle;\n",
       "    }\n",
       "\n",
       "    .dataframe tbody tr th {\n",
       "        vertical-align: top;\n",
       "    }\n",
       "\n",
       "    .dataframe thead th {\n",
       "        text-align: right;\n",
       "    }\n",
       "</style>\n",
       "<table border=\"1\" class=\"dataframe\">\n",
       "  <thead>\n",
       "    <tr style=\"text-align: right;\">\n",
       "      <th></th>\n",
       "      <th>Entity</th>\n",
       "      <th>Day</th>\n",
       "      <th>people_fully_vaccinated_per_hundred</th>\n",
       "    </tr>\n",
       "  </thead>\n",
       "  <tbody>\n",
       "    <tr>\n",
       "      <th>0</th>\n",
       "      <td>Alabama</td>\n",
       "      <td>2021-01-12</td>\n",
       "      <td>0.15</td>\n",
       "    </tr>\n",
       "    <tr>\n",
       "      <th>1</th>\n",
       "      <td>Alabama</td>\n",
       "      <td>2021-01-13</td>\n",
       "      <td>0.19</td>\n",
       "    </tr>\n",
       "    <tr>\n",
       "      <th>2</th>\n",
       "      <td>Alabama</td>\n",
       "      <td>2021-01-15</td>\n",
       "      <td>0.28</td>\n",
       "    </tr>\n",
       "    <tr>\n",
       "      <th>3</th>\n",
       "      <td>Alabama</td>\n",
       "      <td>2021-01-19</td>\n",
       "      <td>0.33</td>\n",
       "    </tr>\n",
       "    <tr>\n",
       "      <th>4</th>\n",
       "      <td>Alabama</td>\n",
       "      <td>2021-01-20</td>\n",
       "      <td>0.37</td>\n",
       "    </tr>\n",
       "  </tbody>\n",
       "</table>\n",
       "</div>"
      ],
      "text/plain": [
       "    Entity         Day  people_fully_vaccinated_per_hundred\n",
       "0  Alabama  2021-01-12                                 0.15\n",
       "1  Alabama  2021-01-13                                 0.19\n",
       "2  Alabama  2021-01-15                                 0.28\n",
       "3  Alabama  2021-01-19                                 0.33\n",
       "4  Alabama  2021-01-20                                 0.37"
      ]
     },
     "execution_count": 5,
     "metadata": {},
     "output_type": "execute_result"
    }
   ],
   "source": [
    "shr_fully_vaccinated_df.head()"
   ]
  },
  {
   "cell_type": "code",
   "execution_count": 6,
   "metadata": {
    "scrolled": true
   },
   "outputs": [
    {
     "data": {
      "text/html": [
       "<div>\n",
       "<style scoped>\n",
       "    .dataframe tbody tr th:only-of-type {\n",
       "        vertical-align: middle;\n",
       "    }\n",
       "\n",
       "    .dataframe tbody tr th {\n",
       "        vertical-align: top;\n",
       "    }\n",
       "\n",
       "    .dataframe thead th {\n",
       "        text-align: right;\n",
       "    }\n",
       "</style>\n",
       "<table border=\"1\" class=\"dataframe\">\n",
       "  <thead>\n",
       "    <tr style=\"text-align: right;\">\n",
       "      <th></th>\n",
       "      <th>Entity</th>\n",
       "      <th>Day</th>\n",
       "      <th>total_vaccinations</th>\n",
       "    </tr>\n",
       "  </thead>\n",
       "  <tbody>\n",
       "    <tr>\n",
       "      <th>0</th>\n",
       "      <td>Alabama</td>\n",
       "      <td>2021-01-12</td>\n",
       "      <td>78134</td>\n",
       "    </tr>\n",
       "    <tr>\n",
       "      <th>1</th>\n",
       "      <td>Alabama</td>\n",
       "      <td>2021-01-13</td>\n",
       "      <td>84040</td>\n",
       "    </tr>\n",
       "    <tr>\n",
       "      <th>2</th>\n",
       "      <td>Alabama</td>\n",
       "      <td>2021-01-14</td>\n",
       "      <td>92300</td>\n",
       "    </tr>\n",
       "    <tr>\n",
       "      <th>3</th>\n",
       "      <td>Alabama</td>\n",
       "      <td>2021-01-15</td>\n",
       "      <td>100567</td>\n",
       "    </tr>\n",
       "    <tr>\n",
       "      <th>4</th>\n",
       "      <td>Alabama</td>\n",
       "      <td>2021-01-19</td>\n",
       "      <td>130795</td>\n",
       "    </tr>\n",
       "  </tbody>\n",
       "</table>\n",
       "</div>"
      ],
      "text/plain": [
       "    Entity         Day  total_vaccinations\n",
       "0  Alabama  2021-01-12               78134\n",
       "1  Alabama  2021-01-13               84040\n",
       "2  Alabama  2021-01-14               92300\n",
       "3  Alabama  2021-01-15              100567\n",
       "4  Alabama  2021-01-19              130795"
      ]
     },
     "execution_count": 6,
     "metadata": {},
     "output_type": "execute_result"
    }
   ],
   "source": [
    "nbr_doses_administered_df.head()"
   ]
  },
  {
   "cell_type": "code",
   "execution_count": 7,
   "metadata": {},
   "outputs": [
    {
     "data": {
      "text/html": [
       "<div>\n",
       "<style scoped>\n",
       "    .dataframe tbody tr th:only-of-type {\n",
       "        vertical-align: middle;\n",
       "    }\n",
       "\n",
       "    .dataframe tbody tr th {\n",
       "        vertical-align: top;\n",
       "    }\n",
       "\n",
       "    .dataframe thead th {\n",
       "        text-align: right;\n",
       "    }\n",
       "</style>\n",
       "<table border=\"1\" class=\"dataframe\">\n",
       "  <thead>\n",
       "    <tr style=\"text-align: right;\">\n",
       "      <th></th>\n",
       "      <th>Entity</th>\n",
       "      <th>Day</th>\n",
       "      <th>total_vaccinations_per_hundred</th>\n",
       "    </tr>\n",
       "  </thead>\n",
       "  <tbody>\n",
       "    <tr>\n",
       "      <th>0</th>\n",
       "      <td>Alabama</td>\n",
       "      <td>2021-01-12</td>\n",
       "      <td>1.59</td>\n",
       "    </tr>\n",
       "    <tr>\n",
       "      <th>1</th>\n",
       "      <td>Alabama</td>\n",
       "      <td>2021-01-13</td>\n",
       "      <td>1.71</td>\n",
       "    </tr>\n",
       "    <tr>\n",
       "      <th>2</th>\n",
       "      <td>Alabama</td>\n",
       "      <td>2021-01-14</td>\n",
       "      <td>1.88</td>\n",
       "    </tr>\n",
       "    <tr>\n",
       "      <th>3</th>\n",
       "      <td>Alabama</td>\n",
       "      <td>2021-01-15</td>\n",
       "      <td>2.05</td>\n",
       "    </tr>\n",
       "    <tr>\n",
       "      <th>4</th>\n",
       "      <td>Alabama</td>\n",
       "      <td>2021-01-19</td>\n",
       "      <td>2.67</td>\n",
       "    </tr>\n",
       "  </tbody>\n",
       "</table>\n",
       "</div>"
      ],
      "text/plain": [
       "    Entity         Day  total_vaccinations_per_hundred\n",
       "0  Alabama  2021-01-12                            1.59\n",
       "1  Alabama  2021-01-13                            1.71\n",
       "2  Alabama  2021-01-14                            1.88\n",
       "3  Alabama  2021-01-15                            2.05\n",
       "4  Alabama  2021-01-19                            2.67"
      ]
     },
     "execution_count": 7,
     "metadata": {},
     "output_type": "execute_result"
    }
   ],
   "source": [
    "nbr_doses_per_hundred_df.head()"
   ]
  },
  {
   "cell_type": "code",
   "execution_count": 9,
   "metadata": {},
   "outputs": [],
   "source": [
    "# Remove empty columns before merging\n",
    "#nbr_fully_vaccinated_df = nbr_fully_vaccinated_df.drop(columns=['Code'])\n",
    "#shr_fully_vaccinated_df = shr_fully_vaccinated_df.drop(columns=['Code'])\n",
    "#nbr_doses_administered_df = nbr_doses_administered_df.drop(columns=['Code'])\n",
    "#nbr_doses_per_hundred_df = nbr_doses_per_hundred_df.drop(columns=['Code'])\n",
    "\n",
    "# Combine the data into a single dataset \n",
    "df1 = pd.merge(nbr_fully_vaccinated_df, shr_fully_vaccinated_df, how=\"left\", on=[\"Entity\",\"Day\"])\n",
    "df2 = pd.merge(df1,nbr_doses_administered_df, how=\"left\", on=[\"Entity\",\"Day\"])\n",
    "df3 = pd.merge(df2, nbr_doses_per_hundred_df, how=\"left\", on=[\"Entity\",\"Day\"])"
   ]
  },
  {
   "cell_type": "code",
   "execution_count": 11,
   "metadata": {},
   "outputs": [
    {
     "data": {
      "text/html": [
       "<div>\n",
       "<style scoped>\n",
       "    .dataframe tbody tr th:only-of-type {\n",
       "        vertical-align: middle;\n",
       "    }\n",
       "\n",
       "    .dataframe tbody tr th {\n",
       "        vertical-align: top;\n",
       "    }\n",
       "\n",
       "    .dataframe thead th {\n",
       "        text-align: right;\n",
       "    }\n",
       "</style>\n",
       "<table border=\"1\" class=\"dataframe\">\n",
       "  <thead>\n",
       "    <tr style=\"text-align: right;\">\n",
       "      <th></th>\n",
       "      <th>Entity</th>\n",
       "      <th>Day</th>\n",
       "      <th>people_fully_vaccinated</th>\n",
       "      <th>people_fully_vaccinated_per_hundred</th>\n",
       "      <th>total_vaccinations</th>\n",
       "      <th>total_vaccinations_per_hundred</th>\n",
       "    </tr>\n",
       "  </thead>\n",
       "  <tbody>\n",
       "    <tr>\n",
       "      <th>0</th>\n",
       "      <td>Alabama</td>\n",
       "      <td>2021-01-12</td>\n",
       "      <td>7270</td>\n",
       "      <td>0.15</td>\n",
       "      <td>78134</td>\n",
       "      <td>1.59</td>\n",
       "    </tr>\n",
       "    <tr>\n",
       "      <th>1</th>\n",
       "      <td>Alabama</td>\n",
       "      <td>2021-01-13</td>\n",
       "      <td>9245</td>\n",
       "      <td>0.19</td>\n",
       "      <td>84040</td>\n",
       "      <td>1.71</td>\n",
       "    </tr>\n",
       "    <tr>\n",
       "      <th>2</th>\n",
       "      <td>Alabama</td>\n",
       "      <td>2021-01-15</td>\n",
       "      <td>13488</td>\n",
       "      <td>0.28</td>\n",
       "      <td>100567</td>\n",
       "      <td>2.05</td>\n",
       "    </tr>\n",
       "    <tr>\n",
       "      <th>3</th>\n",
       "      <td>Alabama</td>\n",
       "      <td>2021-01-19</td>\n",
       "      <td>16346</td>\n",
       "      <td>0.33</td>\n",
       "      <td>130795</td>\n",
       "      <td>2.67</td>\n",
       "    </tr>\n",
       "    <tr>\n",
       "      <th>4</th>\n",
       "      <td>Alabama</td>\n",
       "      <td>2021-01-20</td>\n",
       "      <td>17956</td>\n",
       "      <td>0.37</td>\n",
       "      <td>139200</td>\n",
       "      <td>2.84</td>\n",
       "    </tr>\n",
       "  </tbody>\n",
       "</table>\n",
       "</div>"
      ],
      "text/plain": [
       "    Entity         Day  people_fully_vaccinated  \\\n",
       "0  Alabama  2021-01-12                     7270   \n",
       "1  Alabama  2021-01-13                     9245   \n",
       "2  Alabama  2021-01-15                    13488   \n",
       "3  Alabama  2021-01-19                    16346   \n",
       "4  Alabama  2021-01-20                    17956   \n",
       "\n",
       "   people_fully_vaccinated_per_hundred  total_vaccinations  \\\n",
       "0                                 0.15               78134   \n",
       "1                                 0.19               84040   \n",
       "2                                 0.28              100567   \n",
       "3                                 0.33              130795   \n",
       "4                                 0.37              139200   \n",
       "\n",
       "   total_vaccinations_per_hundred  \n",
       "0                            1.59  \n",
       "1                            1.71  \n",
       "2                            2.05  \n",
       "3                            2.67  \n",
       "4                            2.84  "
      ]
     },
     "execution_count": 11,
     "metadata": {},
     "output_type": "execute_result"
    }
   ],
   "source": [
    "df3.head()"
   ]
  },
  {
   "cell_type": "code",
   "execution_count": 12,
   "metadata": {},
   "outputs": [],
   "source": [
    "# Clean up the merged file: \n",
    "# Remove duplicate data that is listed under Federal Agencies (in addition to containing duplicates, it also contains\n",
    "# many NaNs): Bureau of Prisons, Dept of Defense, Indian Health Svc, Long Term Care and Veterans Health\n",
    "vaccinations_df = df3.loc[(df3[\"Entity\"] != \"Bureau of Prisons\") &\n",
    "                          (df3[\"Entity\"] != \"Dept of Defense\") &\n",
    "                          (df3[\"Entity\"] != \"Indian Health Svc\") &\n",
    "                          (df3[\"Entity\"] != \"Long Term Care\") &\n",
    "                          (df3[\"Entity\"] != \"Veterans Health\"), :].copy()\n",
    "\n",
    "# Replace remaining NaN values with zeros - these primarily occurred on the first day of data collection for some states.\n",
    "vaccinations_df.fillna(value=0, inplace=True)\n",
    "\n",
    "# Change the columns back to integers (fillna added an unnecessary decimal position)\n",
    "vaccinations_df['total_vaccinations'] = vaccinations_df['total_vaccinations'].astype(int) \n",
    "vaccinations_df['total_vaccinations_per_hundred'] = vaccinations_df['total_vaccinations_per_hundred'].astype(int)\n"
   ]
  },
  {
   "cell_type": "code",
   "execution_count": 13,
   "metadata": {},
   "outputs": [],
   "source": [
    "# Restructure the data before finalizing it\n",
    "# Change column name from Entity to State to better reflect the content of the final, cleaned up dataframe. \n",
    "vaccinations_df.rename(columns={'Entity':'state_name', 'Date':'date_administered' }, \n",
    "                 inplace=True)\n",
    "\n",
    "# Remove the rows of national (state_name =\"US\") data into its own dataframe to create 2 tables: US_vaccinations\n",
    "# and State_vaccinations.\n",
    "# Important note: the national and state numbers aren't always the same, because of the way that the different\n",
    "# jurisdictions report their data and how the CDC cross-checks and totals it up so I am preserving that difference\n",
    "# by creating two separate tables: US_vaccinations and state_vaccinations:\n",
    "US_vaccinations_df = vaccinations_df.loc[(vaccinations_df[\"state_name\"] == \"United States\"), :].copy()\n",
    "US_vaccinations_df = US_vaccinations_df.drop(columns=['state_name'])\n",
    "US_vaccinations_df.reset_index(drop=True, inplace=True)\n",
    "\n",
    "state_vaccinations_df = vaccinations_df.loc[(vaccinations_df[\"state_name\"] != \"United States\"), :].copy()\n",
    "state_vaccinations_df.reset_index(drop=True, inplace=True)\n"
   ]
  },
  {
   "cell_type": "code",
   "execution_count": 14,
   "metadata": {},
   "outputs": [],
   "source": [
    "# Write the merged/cleaned up files to new csv files for backup purposes \n",
    "US_vaccinations_df.to_csv(r\"Resources\\US_vaccinations.csv\", index = False, encoding=\"utf-8\")\n",
    "state_vaccinations_df.to_csv(r\"Resources\\State_Vaccinations.csv\", index = False, encoding=\"utf-8\")"
   ]
  },
  {
   "cell_type": "markdown",
   "metadata": {},
   "source": [
    "## Extract and Transform COVID Case and Death Data "
   ]
  },
  {
   "cell_type": "code",
   "execution_count": 15,
   "metadata": {},
   "outputs": [],
   "source": [
    "# Load the file of case and death data, as well as the state cross-reference file, into Pandas dataframes\n",
    "cases_and_deaths_to_load = \"Resources/United_States_COVID-19_Cases_and_Deaths_by_State_over_Time.csv\"\n",
    "state_xref_to_load = \"Resources/State-XRef.csv\"\n",
    "\n",
    "# Read COVID cases & deaths data file and store into Pandas DataFrame\n",
    "raw_cases_deaths_df = pd.read_csv(cases_and_deaths_to_load)\n",
    "\n",
    "# Read State cross-reference data\n",
    "state_xref_df = pd.read_csv(state_xref_to_load)\n"
   ]
  },
  {
   "cell_type": "code",
   "execution_count": 16,
   "metadata": {
    "scrolled": true
   },
   "outputs": [],
   "source": [
    "# Add the state_name to the cases&deaths dataframe so that we will be able to join COVID cases and deaths \n",
    "# with vaccinations when querying the DB. \n",
    "df1 = pd.merge(raw_cases_deaths_df, state_xref_df, how=\"left\", on=[\"state\"])\n",
    "\n",
    "# Remove unnecessary columns\n",
    "raw_cases_deaths_df = df1.drop(columns=['conf_cases','prob_cases','pnew_case',\n",
    "                                                        'conf_death','prob_death','pnew_death',\n",
    "                                                       'created_at','consent_cases','consent_deaths','state'])\n",
    "# reorder the columns\n",
    "raw_cases_deaths_df = raw_cases_deaths_df[[\"submission_date\", \"state_name\", \"tot_cases\", \"new_case\", \"tot_death\",\"new_death\"]]"
   ]
  },
  {
   "cell_type": "code",
   "execution_count": 17,
   "metadata": {
    "scrolled": false
   },
   "outputs": [],
   "source": [
    "# Add the NYC totals to the NY totals and remove the NYC rows - CDC continued to track theses separately\n",
    "# since the US pandemic really ramped up in a big way in NYC at the beginning.\n",
    "# Where the submission_date is the same, add the NCY values to the values in the NY columns\n",
    "# Pull out the NY rows and the NYC rows into separate DFs for merging and totaling \n",
    "NY_cases_deaths_df = raw_cases_deaths_df.loc[(raw_cases_deaths_df[\"state_name\"] == \"New York\"), :].copy()\n",
    "NY_cases_deaths_df.reset_index(drop=True, inplace=True)\n",
    "\n",
    "NYC_cases_deaths_df = raw_cases_deaths_df.loc[(raw_cases_deaths_df[\"state_name\"] == \"New York City\"), :].copy()\n",
    "NYC_cases_deaths_df.reset_index(drop=True, inplace=True)\n",
    "\n",
    "other_states_df = raw_cases_deaths_df.loc[(raw_cases_deaths_df[\"state_name\"] != \"New York City\") &\n",
    "                                          (raw_cases_deaths_df[\"state_name\"] != \"New York\"), :].copy()\n",
    "other_states_df.reset_index(drop=True, inplace=True)\n",
    "\n",
    "# Merge the NY & NYC data\n",
    "merged_df = pd.merge(NY_cases_deaths_df, NYC_cases_deaths_df, how=\"left\", on=[\"submission_date\"])\n",
    "\n",
    "# Add the NY & NYC totals together and create a new DF with the daily totals aggregated\n",
    "submission_date = merged_df['submission_date']\n",
    "tot_cases = merged_df['tot_cases_x'] + merged_df['tot_cases_y']\n",
    "new_case = merged_df['new_case_x'] + merged_df['new_case_y']\n",
    "tot_death = merged_df['tot_death_x'] + merged_df['tot_death_y']\n",
    "new_death = merged_df['new_death_x'] + merged_df['new_death_y']\n",
    "merged_ny_df = pd.DataFrame({'submission_date': submission_date,\n",
    "                                     'state_name':'New York',\n",
    "                                     'tot_cases': tot_cases,\n",
    "                                     'new_case': new_case,\n",
    "                                     'tot_death': tot_death,\n",
    "                                     'new_death': new_death                                     \n",
    "                                    })\n",
    "\n",
    "# Add the new single combined NY/NYC rows back together with the rows from the other states\n",
    "state_cases_deaths = pd.concat([merged_ny_df, other_states_df])\n",
    "\n",
    "# Clean up the column names  \n",
    "state_cases_deaths.rename(columns={'new_case':'new_cases', 'tot_death':'tot_deaths','new_death':'new_deaths' }, \n",
    "                 inplace=True)\n",
    "\n",
    "# Write the merged/cleaned up file to a new csv file for backup purposes \n",
    "state_cases_deaths.to_csv(r\"Resources\\state_cases_deaths.csv\", index = False, encoding=\"utf-8\")\n"
   ]
  }
 ],
 "metadata": {
  "anaconda-cloud": {},
  "kernel_info": {
   "name": "python3"
  },
  "kernelspec": {
   "display_name": "Python 3",
   "language": "python",
   "name": "python3"
  },
  "language_info": {
   "codemirror_mode": {
    "name": "ipython",
    "version": 3
   },
   "file_extension": ".py",
   "mimetype": "text/x-python",
   "name": "python",
   "nbconvert_exporter": "python",
   "pygments_lexer": "ipython3",
   "version": "3.8.3"
  },
  "latex_envs": {
   "LaTeX_envs_menu_present": true,
   "autoclose": false,
   "autocomplete": true,
   "bibliofile": "biblio.bib",
   "cite_by": "apalike",
   "current_citInitial": 1,
   "eqLabelWithNumbers": true,
   "eqNumInitial": 1,
   "hotkeys": {
    "equation": "Ctrl-E",
    "itemize": "Ctrl-I"
   },
   "labels_anchors": false,
   "latex_user_defs": false,
   "report_style_numbering": false,
   "user_envs_cfg": false
  },
  "nteract": {
   "version": "0.8.4"
  }
 },
 "nbformat": 4,
 "nbformat_minor": 1
}
